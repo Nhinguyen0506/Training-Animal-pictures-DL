{
  "cells": [
    {
      "cell_type": "code",
      "execution_count": null,
      "metadata": {
        "colab": {
          "base_uri": "https://localhost:8080/"
        },
        "id": "eVbbP18WvCKp",
        "outputId": "96eead64-1a9c-4ddb-f564-99a6590ed004"
      },
      "outputs": [
        {
          "output_type": "stream",
          "name": "stdout",
          "text": [
            "Collecting opendatasets\n",
            "  Downloading opendatasets-0.1.22-py3-none-any.whl (15 kB)\n",
            "Requirement already satisfied: tqdm in /usr/local/lib/python3.10/dist-packages (from opendatasets) (4.66.4)\n",
            "Requirement already satisfied: kaggle in /usr/local/lib/python3.10/dist-packages (from opendatasets) (1.6.12)\n",
            "Requirement already satisfied: click in /usr/local/lib/python3.10/dist-packages (from opendatasets) (8.1.7)\n",
            "Requirement already satisfied: six>=1.10 in /usr/local/lib/python3.10/dist-packages (from kaggle->opendatasets) (1.16.0)\n",
            "Requirement already satisfied: certifi>=2023.7.22 in /usr/local/lib/python3.10/dist-packages (from kaggle->opendatasets) (2024.2.2)\n",
            "Requirement already satisfied: python-dateutil in /usr/local/lib/python3.10/dist-packages (from kaggle->opendatasets) (2.8.2)\n",
            "Requirement already satisfied: requests in /usr/local/lib/python3.10/dist-packages (from kaggle->opendatasets) (2.31.0)\n",
            "Requirement already satisfied: python-slugify in /usr/local/lib/python3.10/dist-packages (from kaggle->opendatasets) (8.0.4)\n",
            "Requirement already satisfied: urllib3 in /usr/local/lib/python3.10/dist-packages (from kaggle->opendatasets) (2.0.7)\n",
            "Requirement already satisfied: bleach in /usr/local/lib/python3.10/dist-packages (from kaggle->opendatasets) (6.1.0)\n",
            "Requirement already satisfied: webencodings in /usr/local/lib/python3.10/dist-packages (from bleach->kaggle->opendatasets) (0.5.1)\n",
            "Requirement already satisfied: text-unidecode>=1.3 in /usr/local/lib/python3.10/dist-packages (from python-slugify->kaggle->opendatasets) (1.3)\n",
            "Requirement already satisfied: charset-normalizer<4,>=2 in /usr/local/lib/python3.10/dist-packages (from requests->kaggle->opendatasets) (3.3.2)\n",
            "Requirement already satisfied: idna<4,>=2.5 in /usr/local/lib/python3.10/dist-packages (from requests->kaggle->opendatasets) (3.7)\n",
            "Installing collected packages: opendatasets\n",
            "Successfully installed opendatasets-0.1.22\n",
            "Requirement already satisfied: pandas in /usr/local/lib/python3.10/dist-packages (2.0.3)\n",
            "Requirement already satisfied: python-dateutil>=2.8.2 in /usr/local/lib/python3.10/dist-packages (from pandas) (2.8.2)\n",
            "Requirement already satisfied: pytz>=2020.1 in /usr/local/lib/python3.10/dist-packages (from pandas) (2023.4)\n",
            "Requirement already satisfied: tzdata>=2022.1 in /usr/local/lib/python3.10/dist-packages (from pandas) (2024.1)\n",
            "Requirement already satisfied: numpy>=1.21.0 in /usr/local/lib/python3.10/dist-packages (from pandas) (1.25.2)\n",
            "Requirement already satisfied: six>=1.5 in /usr/local/lib/python3.10/dist-packages (from python-dateutil>=2.8.2->pandas) (1.16.0)\n"
          ]
        }
      ],
      "source": [
        "! pip install opendatasets\n",
        "! pip install pandas"
      ]
    },
    {
      "cell_type": "code",
      "execution_count": null,
      "metadata": {
        "colab": {
          "base_uri": "https://localhost:8080/"
        },
        "id": "jwPTUU3rvJrq",
        "outputId": "c8291678-78d3-4315-ca56-0e16e9d7ad5c"
      },
      "outputs": [
        {
          "output_type": "stream",
          "name": "stdout",
          "text": [
            "Please provide your Kaggle credentials to download this dataset. Learn more: http://bit.ly/kaggle-creds\n",
            "Your Kaggle username: trananan\n",
            "Your Kaggle Key: ··········\n",
            "Dataset URL: https://www.kaggle.com/datasets/alessiocorrado99/animals10\n",
            "Downloading animals10.zip to ./animals10\n"
          ]
        },
        {
          "output_type": "stream",
          "name": "stderr",
          "text": [
            "100%|██████████| 586M/586M [00:20<00:00, 30.2MB/s]\n"
          ]
        },
        {
          "output_type": "stream",
          "name": "stdout",
          "text": [
            "\n"
          ]
        }
      ],
      "source": [
        "import opendatasets as od\n",
        "import pandas\n",
        "\n",
        "od.download(\n",
        "    \"https://www.kaggle.com/datasets/alessiocorrado99/animals10?resource=download\",\n",
        "    username=\"trananan\",\n",
        "    password=\"your_kaggle_password\",\n",
        "    force=True)\n"
      ]
    },
    {
      "cell_type": "code",
      "execution_count": null,
      "metadata": {
        "id": "aH5hFxYQvr8n"
      },
      "outputs": [],
      "source": [
        "import numpy as np\n",
        "import tensorflow as tf\n",
        "from tensorflow.keras.preprocessing.image import ImageDataGenerator\n",
        "from tensorflow.keras.models import Sequential\n",
        "from tensorflow.keras.layers import Conv2D, MaxPooling2D, Flatten, Dense"
      ]
    },
    {
      "cell_type": "code",
      "execution_count": null,
      "metadata": {
        "id": "cAgsvkPNvvIR",
        "colab": {
          "base_uri": "https://localhost:8080/"
        },
        "outputId": "f3021700-a22b-4210-97e2-d8d4db72c7f4"
      },
      "outputs": [
        {
          "output_type": "stream",
          "name": "stdout",
          "text": [
            "Found 20947 images belonging to 10 classes.\n",
            "Found 5232 images belonging to 10 classes.\n"
          ]
        }
      ],
      "source": [
        "IMAGE_SIZE=(28, 28)\n",
        "BATCH_SIZE=32\n",
        "train_dir = '/content/animals10/raw-img'\n",
        "train_datagen = ImageDataGenerator(\n",
        "    rescale=1./255,\n",
        "    rotation_range=40,\n",
        "    width_shift_range=0.2,\n",
        "    height_shift_range=0.2,\n",
        "    shear_range=0.2,\n",
        "    zoom_range=0.2,\n",
        "    horizontal_flip=True,\n",
        "    fill_mode='nearest',\n",
        "    validation_split=0.2\n",
        ")\n",
        "\n",
        "\n",
        "train_generator = train_datagen.flow_from_directory(\n",
        "    train_dir,\n",
        "    target_size=IMAGE_SIZE,\n",
        "    batch_size=BATCH_SIZE,\n",
        "    class_mode='categorical',\n",
        "    subset='training'  # Use subset for training data\n",
        ")\n",
        "\n",
        "# Load validation data from directory\n",
        "validation_generator = train_datagen.flow_from_directory(\n",
        "    train_dir,\n",
        "    target_size=IMAGE_SIZE,\n",
        "    batch_size=BATCH_SIZE,\n",
        "    class_mode='categorical',\n",
        "    subset='validation'  # Use subset for validation data\n",
        ")\n",
        "\n"
      ]
    },
    {
      "cell_type": "code",
      "execution_count": null,
      "metadata": {
        "id": "i1M6Nx8LwNlU"
      },
      "outputs": [],
      "source": [
        "model = Sequential([\n",
        "    Conv2D(196, (3, 3), activation='relu', input_shape=(28, 28, 3)),\n",
        "    MaxPooling2D((2, 2)),\n",
        "    Conv2D(392, (3, 3), activation='relu'),\n",
        "    MaxPooling2D((2, 2)),\n",
        "    Conv2D(784, (3, 3), activation='relu'),\n",
        "    MaxPooling2D((2, 2)),\n",
        "    Flatten(),\n",
        "    Dense(300, activation='relu'),\n",
        "    Dense(100, activation='relu'),\n",
        "    Dense(10, activation='softmax')\n",
        "])"
      ]
    },
    {
      "cell_type": "code",
      "source": [
        "model.summary()"
      ],
      "metadata": {
        "colab": {
          "base_uri": "https://localhost:8080/"
        },
        "id": "4HOrra6NG-XH",
        "outputId": "42a86e78-82f0-44fb-868e-1a0dcc8b0956"
      },
      "execution_count": null,
      "outputs": [
        {
          "output_type": "stream",
          "name": "stdout",
          "text": [
            "Model: \"sequential_8\"\n",
            "_________________________________________________________________\n",
            " Layer (type)                Output Shape              Param #   \n",
            "=================================================================\n",
            " conv2d_26 (Conv2D)          (None, 26, 26, 196)       5488      \n",
            "                                                                 \n",
            " max_pooling2d_24 (MaxPooli  (None, 13, 13, 196)       0         \n",
            " ng2D)                                                           \n",
            "                                                                 \n",
            " conv2d_27 (Conv2D)          (None, 11, 11, 392)       691880    \n",
            "                                                                 \n",
            " max_pooling2d_25 (MaxPooli  (None, 5, 5, 392)         0         \n",
            " ng2D)                                                           \n",
            "                                                                 \n",
            " conv2d_28 (Conv2D)          (None, 3, 3, 784)         2766736   \n",
            "                                                                 \n",
            " max_pooling2d_26 (MaxPooli  (None, 1, 1, 784)         0         \n",
            " ng2D)                                                           \n",
            "                                                                 \n",
            " flatten_8 (Flatten)         (None, 784)               0         \n",
            "                                                                 \n",
            " dense_19 (Dense)            (None, 300)               235500    \n",
            "                                                                 \n",
            " dense_20 (Dense)            (None, 100)               30100     \n",
            "                                                                 \n",
            " dense_21 (Dense)            (None, 10)                1010      \n",
            "                                                                 \n",
            "=================================================================\n",
            "Total params: 3730714 (14.23 MB)\n",
            "Trainable params: 3730714 (14.23 MB)\n",
            "Non-trainable params: 0 (0.00 Byte)\n",
            "_________________________________________________________________\n"
          ]
        }
      ]
    },
    {
      "cell_type": "code",
      "execution_count": null,
      "metadata": {
        "id": "IeLGBocMwQzy"
      },
      "outputs": [],
      "source": [
        "# Compile the model\n",
        "model.compile(optimizer='adam',\n",
        "              loss='categorical_crossentropy',\n",
        "              metrics=['accuracy'])"
      ]
    },
    {
      "cell_type": "code",
      "source": [
        "history = model.fit(\n",
        "    train_generator,\n",
        "    epochs=20,\n",
        "    validation_data=validation_generator\n",
        ")"
      ],
      "metadata": {
        "id": "24C5iT2WKPg2",
        "outputId": "3b3c385f-3e76-42f5-8913-4f6eea4ca904",
        "colab": {
          "base_uri": "https://localhost:8080/"
        }
      },
      "execution_count": null,
      "outputs": [
        {
          "output_type": "stream",
          "name": "stdout",
          "text": [
            "Epoch 1/20\n",
            "655/655 [==============================] - 498s 761ms/step - loss: 2.1368 - accuracy: 0.2376 - val_loss: 2.0977 - val_accuracy: 0.2657\n",
            "Epoch 2/20\n",
            "655/655 [==============================] - 488s 745ms/step - loss: 1.9296 - accuracy: 0.3233 - val_loss: 1.8156 - val_accuracy: 0.3534\n",
            "Epoch 3/20\n",
            "655/655 [==============================] - 491s 749ms/step - loss: 1.7750 - accuracy: 0.3829 - val_loss: 1.6970 - val_accuracy: 0.4132\n",
            "Epoch 4/20\n",
            "655/655 [==============================] - 491s 749ms/step - loss: 1.6926 - accuracy: 0.4122 - val_loss: 1.6152 - val_accuracy: 0.4373\n",
            "Epoch 5/20\n",
            "655/655 [==============================] - 489s 747ms/step - loss: 1.6272 - accuracy: 0.4350 - val_loss: 1.6187 - val_accuracy: 0.4318\n",
            "Epoch 6/20\n",
            "655/655 [==============================] - 491s 750ms/step - loss: 1.5877 - accuracy: 0.4505 - val_loss: 1.5621 - val_accuracy: 0.4622\n",
            "Epoch 7/20\n",
            "655/655 [==============================] - 489s 747ms/step - loss: 1.5428 - accuracy: 0.4680 - val_loss: 1.5235 - val_accuracy: 0.4671\n",
            "Epoch 8/20\n",
            "655/655 [==============================] - 514s 784ms/step - loss: 1.5103 - accuracy: 0.4781 - val_loss: 1.4815 - val_accuracy: 0.4906\n",
            "Epoch 9/20\n",
            "655/655 [==============================] - 502s 767ms/step - loss: 1.4872 - accuracy: 0.4841 - val_loss: 1.5006 - val_accuracy: 0.4763\n",
            "Epoch 10/20\n",
            "655/655 [==============================] - 487s 744ms/step - loss: 1.4667 - accuracy: 0.4966 - val_loss: 1.5233 - val_accuracy: 0.4832\n",
            "Epoch 11/20\n",
            "655/655 [==============================] - 490s 748ms/step - loss: 1.4459 - accuracy: 0.5080 - val_loss: 1.4472 - val_accuracy: 0.5008\n",
            "Epoch 12/20\n",
            "655/655 [==============================] - 501s 764ms/step - loss: 1.4273 - accuracy: 0.5110 - val_loss: 1.4436 - val_accuracy: 0.4998\n",
            "Epoch 13/20\n",
            "655/655 [==============================] - 488s 745ms/step - loss: 1.4017 - accuracy: 0.5179 - val_loss: 1.5306 - val_accuracy: 0.4732\n",
            "Epoch 14/20\n",
            "655/655 [==============================] - 494s 754ms/step - loss: 1.3947 - accuracy: 0.5232 - val_loss: 1.4215 - val_accuracy: 0.5168\n",
            "Epoch 15/20\n",
            "655/655 [==============================] - 489s 746ms/step - loss: 1.3728 - accuracy: 0.5269 - val_loss: 1.4211 - val_accuracy: 0.5065\n",
            "Epoch 16/20\n",
            "655/655 [==============================] - 486s 743ms/step - loss: 1.3556 - accuracy: 0.5326 - val_loss: 1.3696 - val_accuracy: 0.5308\n",
            "Epoch 17/20\n",
            "655/655 [==============================] - 496s 758ms/step - loss: 1.3446 - accuracy: 0.5352 - val_loss: 1.3828 - val_accuracy: 0.5256\n",
            "Epoch 18/20\n",
            "655/655 [==============================] - 495s 756ms/step - loss: 1.3365 - accuracy: 0.5402 - val_loss: 1.3382 - val_accuracy: 0.5411\n",
            "Epoch 19/20\n",
            "655/655 [==============================] - 485s 740ms/step - loss: 1.3169 - accuracy: 0.5463 - val_loss: 1.3639 - val_accuracy: 0.5317\n",
            "Epoch 20/20\n",
            "655/655 [==============================] - 483s 737ms/step - loss: 1.3071 - accuracy: 0.5526 - val_loss: 1.3297 - val_accuracy: 0.5390\n"
          ]
        }
      ]
    }
  ],
  "metadata": {
    "colab": {
      "provenance": []
    },
    "kernelspec": {
      "display_name": "Python 3",
      "name": "python3"
    },
    "language_info": {
      "name": "python"
    }
  },
  "nbformat": 4,
  "nbformat_minor": 0
}